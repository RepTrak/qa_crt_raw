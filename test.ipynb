{
 "cells": [
  {
   "cell_type": "code",
   "execution_count": 1,
   "metadata": {},
   "outputs": [],
   "source": [
    "import pandas as pd \n",
    "from utils.main import QA_Raw_CRT\n",
    "from utils.io.io import Unzip\n",
    "import boto3 \n",
    "import datetime as dt\n",
    "import dask\n",
    "import dask.dataframe as dd"
   ]
  },
  {
   "cell_type": "code",
   "execution_count": 2,
   "metadata": {},
   "outputs": [],
   "source": [
    "execution_year_month_str = '2022-12'\n",
    "bucketname = 'ri-ds-crt-raw-data'"
   ]
  },
  {
   "cell_type": "code",
   "execution_count": 3,
   "metadata": {},
   "outputs": [],
   "source": [
    "qa_crt_raw = QA_Raw_CRT(execution_year_month_str)\n",
    "\n",
    "exe_year = qa_crt_raw.cur_exe_year\n",
    "exe_month = qa_crt_raw.cur_exe_month\n",
    "pre_year = qa_crt_raw.pre_exe_year\n",
    "pre_month = qa_crt_raw.pre_exe_month"
   ]
  },
  {
   "cell_type": "code",
   "execution_count": 4,
   "metadata": {},
   "outputs": [
    {
     "name": "stdout",
     "output_type": "stream",
     "text": [
      "s3://ri-ds-crt-raw-data/2022/12/raw_data/PID221100Pink_Final_JSON_v3.json\n",
      "s3://ri-ds-crt-raw-data/2022/12/raw_data/PID221101Green_Final_JSON_v3.json\n",
      "s3://ri-ds-crt-raw-data/2022/12/raw_data/PID221102US_Final_JSON.json\n"
     ]
    }
   ],
   "source": [
    "df_cur = qa_crt_raw.get_json_data_s3(exe_year, exe_month, bucketname)"
   ]
  },
  {
   "cell_type": "code",
   "execution_count": 5,
   "metadata": {},
   "outputs": [
    {
     "name": "stdout",
     "output_type": "stream",
     "text": [
      "s3://ri-ds-crt-raw-data/2022/11/raw_data/PID221100PINK_FL_JSON.json\n",
      "s3://ri-ds-crt-raw-data/2022/11/raw_data/PID221101GREEN_FL_JSON.json\n",
      "s3://ri-ds-crt-raw-data/2022/11/raw_data/PID221102US_FL_JSON.json\n"
     ]
    },
    {
     "ename": "MemoryError",
     "evalue": "Unable to allocate 2.60 MiB for an array with shape (1, 340469) and data type float64",
     "output_type": "error",
     "traceback": [
      "\u001b[1;31m---------------------------------------------------------------------------\u001b[0m",
      "\u001b[1;31mMemoryError\u001b[0m                               Traceback (most recent call last)",
      "\u001b[1;32mc:\\code\\qa_data\\raw_crt\\test.ipynb Cell 5\u001b[0m in \u001b[0;36m<cell line: 1>\u001b[1;34m()\u001b[0m\n\u001b[1;32m----> <a href='vscode-notebook-cell:/c%3A/code/qa_data/raw_crt/test.ipynb#X21sZmlsZQ%3D%3D?line=0'>1</a>\u001b[0m df_lst \u001b[39m=\u001b[39m qa_crt_raw\u001b[39m.\u001b[39;49mget_json_data_s3(pre_year, pre_month, bucketname)\n",
      "File \u001b[1;32mc:\\code\\qa_data\\raw_crt\\utils\\main.py:49\u001b[0m, in \u001b[0;36mQA_Raw_CRT.get_json_data_s3\u001b[1;34m(self, year, month, bucketname)\u001b[0m\n\u001b[0;32m     47\u001b[0m         dftemp \u001b[39m=\u001b[39m pd\u001b[39m.\u001b[39mread_json(obj\u001b[39m.\u001b[39mget()[\u001b[39m'\u001b[39m\u001b[39mBody\u001b[39m\u001b[39m'\u001b[39m])\n\u001b[0;32m     48\u001b[0m         dflist\u001b[39m.\u001b[39mappend(dftemp)\n\u001b[1;32m---> 49\u001b[0m df \u001b[39m=\u001b[39m pd\u001b[39m.\u001b[39;49mconcat(dflist)\n\u001b[0;32m     51\u001b[0m \u001b[39mreturn\u001b[39;00m df\n",
      "File \u001b[1;32mc:\\Users\\HaotianWu\\anaconda3\\lib\\site-packages\\pandas\\util\\_decorators.py:311\u001b[0m, in \u001b[0;36mdeprecate_nonkeyword_arguments.<locals>.decorate.<locals>.wrapper\u001b[1;34m(*args, **kwargs)\u001b[0m\n\u001b[0;32m    305\u001b[0m \u001b[39mif\u001b[39;00m \u001b[39mlen\u001b[39m(args) \u001b[39m>\u001b[39m num_allow_args:\n\u001b[0;32m    306\u001b[0m     warnings\u001b[39m.\u001b[39mwarn(\n\u001b[0;32m    307\u001b[0m         msg\u001b[39m.\u001b[39mformat(arguments\u001b[39m=\u001b[39marguments),\n\u001b[0;32m    308\u001b[0m         \u001b[39mFutureWarning\u001b[39;00m,\n\u001b[0;32m    309\u001b[0m         stacklevel\u001b[39m=\u001b[39mstacklevel,\n\u001b[0;32m    310\u001b[0m     )\n\u001b[1;32m--> 311\u001b[0m \u001b[39mreturn\u001b[39;00m func(\u001b[39m*\u001b[39;49margs, \u001b[39m*\u001b[39;49m\u001b[39m*\u001b[39;49mkwargs)\n",
      "File \u001b[1;32mc:\\Users\\HaotianWu\\anaconda3\\lib\\site-packages\\pandas\\core\\reshape\\concat.py:360\u001b[0m, in \u001b[0;36mconcat\u001b[1;34m(objs, axis, join, ignore_index, keys, levels, names, verify_integrity, sort, copy)\u001b[0m\n\u001b[0;32m    156\u001b[0m \u001b[39m\"\"\"\u001b[39;00m\n\u001b[0;32m    157\u001b[0m \u001b[39mConcatenate pandas objects along a particular axis with optional set logic\u001b[39;00m\n\u001b[0;32m    158\u001b[0m \u001b[39malong the other axes.\u001b[39;00m\n\u001b[1;32m   (...)\u001b[0m\n\u001b[0;32m    345\u001b[0m \u001b[39mValueError: Indexes have overlapping values: ['a']\u001b[39;00m\n\u001b[0;32m    346\u001b[0m \u001b[39m\"\"\"\u001b[39;00m\n\u001b[0;32m    347\u001b[0m op \u001b[39m=\u001b[39m _Concatenator(\n\u001b[0;32m    348\u001b[0m     objs,\n\u001b[0;32m    349\u001b[0m     axis\u001b[39m=\u001b[39maxis,\n\u001b[1;32m   (...)\u001b[0m\n\u001b[0;32m    357\u001b[0m     sort\u001b[39m=\u001b[39msort,\n\u001b[0;32m    358\u001b[0m )\n\u001b[1;32m--> 360\u001b[0m \u001b[39mreturn\u001b[39;00m op\u001b[39m.\u001b[39;49mget_result()\n",
      "File \u001b[1;32mc:\\Users\\HaotianWu\\anaconda3\\lib\\site-packages\\pandas\\core\\reshape\\concat.py:595\u001b[0m, in \u001b[0;36m_Concatenator.get_result\u001b[1;34m(self)\u001b[0m\n\u001b[0;32m    591\u001b[0m             indexers[ax] \u001b[39m=\u001b[39m obj_labels\u001b[39m.\u001b[39mget_indexer(new_labels)\n\u001b[0;32m    593\u001b[0m     mgrs_indexers\u001b[39m.\u001b[39mappend((obj\u001b[39m.\u001b[39m_mgr, indexers))\n\u001b[1;32m--> 595\u001b[0m new_data \u001b[39m=\u001b[39m concatenate_managers(\n\u001b[0;32m    596\u001b[0m     mgrs_indexers, \u001b[39mself\u001b[39;49m\u001b[39m.\u001b[39;49mnew_axes, concat_axis\u001b[39m=\u001b[39;49m\u001b[39mself\u001b[39;49m\u001b[39m.\u001b[39;49mbm_axis, copy\u001b[39m=\u001b[39;49m\u001b[39mself\u001b[39;49m\u001b[39m.\u001b[39;49mcopy\n\u001b[0;32m    597\u001b[0m )\n\u001b[0;32m    598\u001b[0m \u001b[39mif\u001b[39;00m \u001b[39mnot\u001b[39;00m \u001b[39mself\u001b[39m\u001b[39m.\u001b[39mcopy:\n\u001b[0;32m    599\u001b[0m     new_data\u001b[39m.\u001b[39m_consolidate_inplace()\n",
      "File \u001b[1;32mc:\\Users\\HaotianWu\\anaconda3\\lib\\site-packages\\pandas\\core\\internals\\concat.py:241\u001b[0m, in \u001b[0;36mconcatenate_managers\u001b[1;34m(mgrs_indexers, axes, concat_axis, copy)\u001b[0m\n\u001b[0;32m    239\u001b[0m     fastpath \u001b[39m=\u001b[39m blk\u001b[39m.\u001b[39mvalues\u001b[39m.\u001b[39mdtype \u001b[39m==\u001b[39m values\u001b[39m.\u001b[39mdtype\n\u001b[0;32m    240\u001b[0m \u001b[39melse\u001b[39;00m:\n\u001b[1;32m--> 241\u001b[0m     values \u001b[39m=\u001b[39m _concatenate_join_units(join_units, copy\u001b[39m=\u001b[39;49mcopy)\n\u001b[0;32m    242\u001b[0m     fastpath \u001b[39m=\u001b[39m \u001b[39mFalse\u001b[39;00m\n\u001b[0;32m    244\u001b[0m \u001b[39mif\u001b[39;00m fastpath:\n",
      "File \u001b[1;32mc:\\Users\\HaotianWu\\anaconda3\\lib\\site-packages\\pandas\\core\\internals\\concat.py:495\u001b[0m, in \u001b[0;36m_concatenate_join_units\u001b[1;34m(join_units, copy)\u001b[0m\n\u001b[0;32m    492\u001b[0m     concat_values \u001b[39m=\u001b[39m ensure_block_shape(concat_values, \u001b[39m2\u001b[39m)\n\u001b[0;32m    494\u001b[0m \u001b[39melse\u001b[39;00m:\n\u001b[1;32m--> 495\u001b[0m     concat_values \u001b[39m=\u001b[39m concat_compat(to_concat, axis\u001b[39m=\u001b[39;49m\u001b[39m1\u001b[39;49m)\n\u001b[0;32m    497\u001b[0m \u001b[39mreturn\u001b[39;00m concat_values\n",
      "File \u001b[1;32mc:\\Users\\HaotianWu\\anaconda3\\lib\\site-packages\\pandas\\core\\dtypes\\concat.py:151\u001b[0m, in \u001b[0;36mconcat_compat\u001b[1;34m(to_concat, axis, ea_compat_axis)\u001b[0m\n\u001b[0;32m    148\u001b[0m             to_concat \u001b[39m=\u001b[39m [x\u001b[39m.\u001b[39mastype(\u001b[39m\"\u001b[39m\u001b[39mobject\u001b[39m\u001b[39m\"\u001b[39m) \u001b[39mfor\u001b[39;00m x \u001b[39min\u001b[39;00m to_concat]\n\u001b[0;32m    149\u001b[0m             kinds \u001b[39m=\u001b[39m {\u001b[39m\"\u001b[39m\u001b[39mo\u001b[39m\u001b[39m\"\u001b[39m}\n\u001b[1;32m--> 151\u001b[0m result \u001b[39m=\u001b[39m np\u001b[39m.\u001b[39;49mconcatenate(to_concat, axis\u001b[39m=\u001b[39;49maxis)\n\u001b[0;32m    152\u001b[0m \u001b[39mif\u001b[39;00m \u001b[39m\"\u001b[39m\u001b[39mb\u001b[39m\u001b[39m\"\u001b[39m \u001b[39min\u001b[39;00m kinds \u001b[39mand\u001b[39;00m result\u001b[39m.\u001b[39mdtype\u001b[39m.\u001b[39mkind \u001b[39min\u001b[39;00m [\u001b[39m\"\u001b[39m\u001b[39mi\u001b[39m\u001b[39m\"\u001b[39m, \u001b[39m\"\u001b[39m\u001b[39mu\u001b[39m\u001b[39m\"\u001b[39m, \u001b[39m\"\u001b[39m\u001b[39mf\u001b[39m\u001b[39m\"\u001b[39m]:\n\u001b[0;32m    153\u001b[0m     \u001b[39m# GH#39817\u001b[39;00m\n\u001b[0;32m    154\u001b[0m     warnings\u001b[39m.\u001b[39mwarn(\n\u001b[0;32m    155\u001b[0m         \u001b[39m\"\u001b[39m\u001b[39mBehavior when concatenating bool-dtype and numeric-dtype arrays is \u001b[39m\u001b[39m\"\u001b[39m\n\u001b[0;32m    156\u001b[0m         \u001b[39m\"\u001b[39m\u001b[39mdeprecated; in a future version these will cast to object dtype \u001b[39m\u001b[39m\"\u001b[39m\n\u001b[1;32m   (...)\u001b[0m\n\u001b[0;32m    160\u001b[0m         stacklevel\u001b[39m=\u001b[39mfind_stack_level(),\n\u001b[0;32m    161\u001b[0m     )\n",
      "File \u001b[1;32m<__array_function__ internals>:5\u001b[0m, in \u001b[0;36mconcatenate\u001b[1;34m(*args, **kwargs)\u001b[0m\n",
      "\u001b[1;31mMemoryError\u001b[0m: Unable to allocate 2.60 MiB for an array with shape (1, 340469) and data type float64"
     ]
    }
   ],
   "source": [
    "df_lst = qa_crt_raw.get_json_data_s3(pre_year, pre_month, bucketname)"
   ]
  },
  {
   "cell_type": "code",
   "execution_count": 5,
   "metadata": {},
   "outputs": [],
   "source": [
    "pre_exe_year = 2022\n",
    "pre_exe_month = 11"
   ]
  },
  {
   "cell_type": "code",
   "execution_count": 6,
   "metadata": {},
   "outputs": [
    {
     "data": {
      "text/plain": [
       "{'ResponseMetadata': {'RequestId': 'SBP7XHRR754J481N',\n",
       "  'HostId': 'fHWa8Fna3N56fFURVi8/HBEfQ8QTY9xBipEZ/HmQ17ciW0bZ9bKWlHFVAQnAR4s1wVtmWIgYGro=',\n",
       "  'HTTPStatusCode': 200,\n",
       "  'HTTPHeaders': {'x-amz-id-2': 'fHWa8Fna3N56fFURVi8/HBEfQ8QTY9xBipEZ/HmQ17ciW0bZ9bKWlHFVAQnAR4s1wVtmWIgYGro=',\n",
       "   'x-amz-request-id': 'SBP7XHRR754J481N',\n",
       "   'date': 'Tue, 10 Jan 2023 18:53:27 GMT',\n",
       "   'etag': '\"d41d8cd98f00b204e9800998ecf8427e\"',\n",
       "   'server': 'AmazonS3',\n",
       "   'content-length': '0'},\n",
       "  'RetryAttempts': 0},\n",
       " 'ETag': '\"d41d8cd98f00b204e9800998ecf8427e\"'}"
      ]
     },
     "execution_count": 6,
     "metadata": {},
     "output_type": "execute_result"
    }
   ],
   "source": [
    "s3 = boto3.client('s3')\n",
    "subfolder =  str(pre_exe_year) + '/' + str(pre_exe_month)+ '/' + 'raw_data/'\n",
    "s3.put_object(Bucket=bucketname, Key= subfolder)\n",
    "\n"
   ]
  },
  {
   "cell_type": "code",
   "execution_count": 7,
   "metadata": {},
   "outputs": [],
   "source": [
    "import subprocess\n",
    "\n",
    "def Unzip1(zipFile, destinationDirectory='./tmp/'):\n",
    "    # BE CAREFUL - DONT CHANGE OLD PROCESS\n",
    "    try:\n",
    "        print(\"Attempting to extract using 7za\")\n",
    "        process=subprocess.Popen([\"7za\", \"e\", f\"{zipFile}\",\"-aoa\", f\"-o{destinationDirectory}\"], shell=True)\n",
    "    except:\n",
    "        print(\"7za failed, using 'unzip'\")\n",
    "        process=subprocess.Popen([\"unzip\",  f\"{zipFile}\", \"-d\" ,f\"{destinationDirectory}\"], shell=True)\n",
    "    \n",
    "    process.wait()"
   ]
  },
  {
   "cell_type": "code",
   "execution_count": 4,
   "metadata": {},
   "outputs": [],
   "source": [
    "def get_json_data_s3(year, month, bucketname):\n",
    "\n",
    "    s3 = boto3.client('s3')\n",
    "    subfolder =  str(year) + '/' + str(month)+ '/' + 'raw_data/'\n",
    "        \n",
    "        # s3.put_object(Bucket=bucketname, Key= subfolder)\n",
    "\n",
    "    s3 = boto3.resource('s3')\n",
    "    bucket = s3.Bucket(bucketname)\n",
    "    prefix_objs = bucket.objects.filter(Prefix=subfolder)\n",
    "\n",
    "    dflist = []\n",
    "\n",
    "    for obj in prefix_objs:\n",
    "        print(obj)\n",
    "        if obj.key.split('.')[-1] == 'json':\n",
    "            fullfilename = \"s3://\" + bucketname +'/'+ obj.key\n",
    "            if 'Final' in fullfilename:\n",
    "                print(fullfilename)\n",
    "                # df_spss = pd.read_spss(fullfilename)\n",
    "                dftemp = dd.read_json(fullfilename)\n",
    "    #         dftemp = pd.read_json(obj.get()['Body'])\n",
    "    #         dflist.append(dftemp)\n",
    "    # df = pd.concat(dflist)\n",
    "    # return df\n",
    "    return dftemp\n",
    "\n",
    "\n"
   ]
  },
  {
   "cell_type": "code",
   "execution_count": 11,
   "metadata": {},
   "outputs": [
    {
     "ename": "ValueError",
     "evalue": "Expected object or value",
     "output_type": "error",
     "traceback": [
      "\u001b[1;31m---------------------------------------------------------------------------\u001b[0m",
      "\u001b[1;31mValueError\u001b[0m                                Traceback (most recent call last)",
      "\u001b[1;32mc:\\code\\qa_data\\raw_crt\\test.ipynb Cell 10\u001b[0m in \u001b[0;36m<cell line: 1>\u001b[1;34m()\u001b[0m\n\u001b[1;32m----> <a href='vscode-notebook-cell:/c%3A/code/qa_data/raw_crt/test.ipynb#X21sZmlsZQ%3D%3D?line=0'>1</a>\u001b[0m tt \u001b[39m=\u001b[39m dd\u001b[39m.\u001b[39;49mread_json(\u001b[39m'\u001b[39;49m\u001b[39ms3://ri-ds-crt-raw-data/2022/12/raw_data/PID221100Pink_Final_JSON_v3.json\u001b[39;49m\u001b[39m'\u001b[39;49m, lines\u001b[39m=\u001b[39;49m\u001b[39mTrue\u001b[39;49;00m, encoding \u001b[39m=\u001b[39;49m \u001b[39m'\u001b[39;49m\u001b[39mutf-8-sig\u001b[39;49m\u001b[39m'\u001b[39;49m)\n",
      "File \u001b[1;32mc:\\Users\\HaotianWu\\anaconda3\\lib\\site-packages\\dask\\dataframe\\io\\json.py:286\u001b[0m, in \u001b[0;36mread_json\u001b[1;34m(url_path, orient, lines, storage_options, blocksize, sample, encoding, errors, compression, meta, engine, include_path_column, path_converter, **kwargs)\u001b[0m\n\u001b[0;32m    271\u001b[0m     path_dtype \u001b[39m=\u001b[39m pd\u001b[39m.\u001b[39mCategoricalDtype(path_converter(f\u001b[39m.\u001b[39mpath) \u001b[39mfor\u001b[39;00m f \u001b[39min\u001b[39;00m files)\n\u001b[0;32m    272\u001b[0m     parts \u001b[39m=\u001b[39m [\n\u001b[0;32m    273\u001b[0m         delayed(read_json_file)(\n\u001b[0;32m    274\u001b[0m             f,\n\u001b[1;32m   (...)\u001b[0m\n\u001b[0;32m    283\u001b[0m         \u001b[39mfor\u001b[39;00m f \u001b[39min\u001b[39;00m files\n\u001b[0;32m    284\u001b[0m     ]\n\u001b[1;32m--> 286\u001b[0m \u001b[39mreturn\u001b[39;00m from_delayed(parts, meta\u001b[39m=\u001b[39;49mmeta)\n",
      "File \u001b[1;32mc:\\Users\\HaotianWu\\anaconda3\\lib\\site-packages\\dask\\dataframe\\io\\io.py:667\u001b[0m, in \u001b[0;36mfrom_delayed\u001b[1;34m(dfs, meta, divisions, prefix, verify_meta)\u001b[0m\n\u001b[0;32m    664\u001b[0m         \u001b[39mraise\u001b[39;00m \u001b[39mTypeError\u001b[39;00m(\u001b[39m\"\u001b[39m\u001b[39mExpected Delayed object, got \u001b[39m\u001b[39m%s\u001b[39;00m\u001b[39m\"\u001b[39m \u001b[39m%\u001b[39m \u001b[39mtype\u001b[39m(df)\u001b[39m.\u001b[39m\u001b[39m__name__\u001b[39m)\n\u001b[0;32m    666\u001b[0m \u001b[39mif\u001b[39;00m meta \u001b[39mis\u001b[39;00m \u001b[39mNone\u001b[39;00m:\n\u001b[1;32m--> 667\u001b[0m     meta \u001b[39m=\u001b[39m delayed(make_meta)(dfs[\u001b[39m0\u001b[39;49m])\u001b[39m.\u001b[39;49mcompute()\n\u001b[0;32m    668\u001b[0m \u001b[39melse\u001b[39;00m:\n\u001b[0;32m    669\u001b[0m     meta \u001b[39m=\u001b[39m make_meta(meta)\n",
      "File \u001b[1;32mc:\\Users\\HaotianWu\\anaconda3\\lib\\site-packages\\dask\\base.py:292\u001b[0m, in \u001b[0;36mDaskMethodsMixin.compute\u001b[1;34m(self, **kwargs)\u001b[0m\n\u001b[0;32m    268\u001b[0m \u001b[39mdef\u001b[39;00m \u001b[39mcompute\u001b[39m(\u001b[39mself\u001b[39m, \u001b[39m*\u001b[39m\u001b[39m*\u001b[39mkwargs):\n\u001b[0;32m    269\u001b[0m     \u001b[39m\"\"\"Compute this dask collection\u001b[39;00m\n\u001b[0;32m    270\u001b[0m \n\u001b[0;32m    271\u001b[0m \u001b[39m    This turns a lazy Dask collection into its in-memory equivalent.\u001b[39;00m\n\u001b[1;32m   (...)\u001b[0m\n\u001b[0;32m    290\u001b[0m \u001b[39m    dask.base.compute\u001b[39;00m\n\u001b[0;32m    291\u001b[0m \u001b[39m    \"\"\"\u001b[39;00m\n\u001b[1;32m--> 292\u001b[0m     (result,) \u001b[39m=\u001b[39m compute(\u001b[39mself\u001b[39;49m, traverse\u001b[39m=\u001b[39;49m\u001b[39mFalse\u001b[39;49;00m, \u001b[39m*\u001b[39;49m\u001b[39m*\u001b[39;49mkwargs)\n\u001b[0;32m    293\u001b[0m     \u001b[39mreturn\u001b[39;00m result\n",
      "File \u001b[1;32mc:\\Users\\HaotianWu\\anaconda3\\lib\\site-packages\\dask\\base.py:575\u001b[0m, in \u001b[0;36mcompute\u001b[1;34m(traverse, optimize_graph, scheduler, get, *args, **kwargs)\u001b[0m\n\u001b[0;32m    572\u001b[0m     keys\u001b[39m.\u001b[39mappend(x\u001b[39m.\u001b[39m__dask_keys__())\n\u001b[0;32m    573\u001b[0m     postcomputes\u001b[39m.\u001b[39mappend(x\u001b[39m.\u001b[39m__dask_postcompute__())\n\u001b[1;32m--> 575\u001b[0m results \u001b[39m=\u001b[39m schedule(dsk, keys, \u001b[39m*\u001b[39;49m\u001b[39m*\u001b[39;49mkwargs)\n\u001b[0;32m    576\u001b[0m \u001b[39mreturn\u001b[39;00m repack([f(r, \u001b[39m*\u001b[39ma) \u001b[39mfor\u001b[39;00m r, (f, a) \u001b[39min\u001b[39;00m \u001b[39mzip\u001b[39m(results, postcomputes)])\n",
      "File \u001b[1;32mc:\\Users\\HaotianWu\\anaconda3\\lib\\site-packages\\dask\\threaded.py:81\u001b[0m, in \u001b[0;36mget\u001b[1;34m(dsk, result, cache, num_workers, pool, **kwargs)\u001b[0m\n\u001b[0;32m     78\u001b[0m     \u001b[39melif\u001b[39;00m \u001b[39misinstance\u001b[39m(pool, multiprocessing\u001b[39m.\u001b[39mpool\u001b[39m.\u001b[39mPool):\n\u001b[0;32m     79\u001b[0m         pool \u001b[39m=\u001b[39m MultiprocessingPoolExecutor(pool)\n\u001b[1;32m---> 81\u001b[0m results \u001b[39m=\u001b[39m get_async(\n\u001b[0;32m     82\u001b[0m     pool\u001b[39m.\u001b[39;49msubmit,\n\u001b[0;32m     83\u001b[0m     pool\u001b[39m.\u001b[39;49m_max_workers,\n\u001b[0;32m     84\u001b[0m     dsk,\n\u001b[0;32m     85\u001b[0m     result,\n\u001b[0;32m     86\u001b[0m     cache\u001b[39m=\u001b[39;49mcache,\n\u001b[0;32m     87\u001b[0m     get_id\u001b[39m=\u001b[39;49m_thread_get_id,\n\u001b[0;32m     88\u001b[0m     pack_exception\u001b[39m=\u001b[39;49mpack_exception,\n\u001b[0;32m     89\u001b[0m     \u001b[39m*\u001b[39;49m\u001b[39m*\u001b[39;49mkwargs,\n\u001b[0;32m     90\u001b[0m )\n\u001b[0;32m     92\u001b[0m \u001b[39m# Cleanup pools associated to dead threads\u001b[39;00m\n\u001b[0;32m     93\u001b[0m \u001b[39mwith\u001b[39;00m pools_lock:\n",
      "File \u001b[1;32mc:\\Users\\HaotianWu\\anaconda3\\lib\\site-packages\\dask\\local.py:508\u001b[0m, in \u001b[0;36mget_async\u001b[1;34m(submit, num_workers, dsk, result, cache, get_id, rerun_exceptions_locally, pack_exception, raise_exception, callbacks, dumps, loads, chunksize, **kwargs)\u001b[0m\n\u001b[0;32m    506\u001b[0m         _execute_task(task, data)  \u001b[39m# Re-execute locally\u001b[39;00m\n\u001b[0;32m    507\u001b[0m     \u001b[39melse\u001b[39;00m:\n\u001b[1;32m--> 508\u001b[0m         raise_exception(exc, tb)\n\u001b[0;32m    509\u001b[0m res, worker_id \u001b[39m=\u001b[39m loads(res_info)\n\u001b[0;32m    510\u001b[0m state[\u001b[39m\"\u001b[39m\u001b[39mcache\u001b[39m\u001b[39m\"\u001b[39m][key] \u001b[39m=\u001b[39m res\n",
      "File \u001b[1;32mc:\\Users\\HaotianWu\\anaconda3\\lib\\site-packages\\dask\\local.py:316\u001b[0m, in \u001b[0;36mreraise\u001b[1;34m(exc, tb)\u001b[0m\n\u001b[0;32m    314\u001b[0m \u001b[39mif\u001b[39;00m exc\u001b[39m.\u001b[39m__traceback__ \u001b[39mis\u001b[39;00m \u001b[39mnot\u001b[39;00m tb:\n\u001b[0;32m    315\u001b[0m     \u001b[39mraise\u001b[39;00m exc\u001b[39m.\u001b[39mwith_traceback(tb)\n\u001b[1;32m--> 316\u001b[0m \u001b[39mraise\u001b[39;00m exc\n",
      "File \u001b[1;32mc:\\Users\\HaotianWu\\anaconda3\\lib\\site-packages\\dask\\local.py:221\u001b[0m, in \u001b[0;36mexecute_task\u001b[1;34m(key, task_info, dumps, loads, get_id, pack_exception)\u001b[0m\n\u001b[0;32m    219\u001b[0m \u001b[39mtry\u001b[39;00m:\n\u001b[0;32m    220\u001b[0m     task, data \u001b[39m=\u001b[39m loads(task_info)\n\u001b[1;32m--> 221\u001b[0m     result \u001b[39m=\u001b[39m _execute_task(task, data)\n\u001b[0;32m    222\u001b[0m     \u001b[39mid\u001b[39m \u001b[39m=\u001b[39m get_id()\n\u001b[0;32m    223\u001b[0m     result \u001b[39m=\u001b[39m dumps((result, \u001b[39mid\u001b[39m))\n",
      "File \u001b[1;32mc:\\Users\\HaotianWu\\anaconda3\\lib\\site-packages\\dask\\core.py:119\u001b[0m, in \u001b[0;36m_execute_task\u001b[1;34m(arg, cache, dsk)\u001b[0m\n\u001b[0;32m    115\u001b[0m     func, args \u001b[39m=\u001b[39m arg[\u001b[39m0\u001b[39m], arg[\u001b[39m1\u001b[39m:]\n\u001b[0;32m    116\u001b[0m     \u001b[39m# Note: Don't assign the subtask results to a variable. numpy detects\u001b[39;00m\n\u001b[0;32m    117\u001b[0m     \u001b[39m# temporaries by their reference count and can execute certain\u001b[39;00m\n\u001b[0;32m    118\u001b[0m     \u001b[39m# operations in-place.\u001b[39;00m\n\u001b[1;32m--> 119\u001b[0m     \u001b[39mreturn\u001b[39;00m func(\u001b[39m*\u001b[39;49m(_execute_task(a, cache) \u001b[39mfor\u001b[39;49;00m a \u001b[39min\u001b[39;49;00m args))\n\u001b[0;32m    120\u001b[0m \u001b[39melif\u001b[39;00m \u001b[39mnot\u001b[39;00m ishashable(arg):\n\u001b[0;32m    121\u001b[0m     \u001b[39mreturn\u001b[39;00m arg\n",
      "File \u001b[1;32mc:\\Users\\HaotianWu\\anaconda3\\lib\\site-packages\\dask\\dataframe\\io\\json.py:306\u001b[0m, in \u001b[0;36mread_json_file\u001b[1;34m(f, orient, lines, engine, column_name, path, path_dtype, kwargs)\u001b[0m\n\u001b[0;32m    304\u001b[0m \u001b[39mdef\u001b[39;00m \u001b[39mread_json_file\u001b[39m(f, orient, lines, engine, column_name, path, path_dtype, kwargs):\n\u001b[0;32m    305\u001b[0m     \u001b[39mwith\u001b[39;00m f \u001b[39mas\u001b[39;00m open_file:\n\u001b[1;32m--> 306\u001b[0m         df \u001b[39m=\u001b[39m engine(open_file, orient\u001b[39m=\u001b[39;49morient, lines\u001b[39m=\u001b[39;49mlines, \u001b[39m*\u001b[39;49m\u001b[39m*\u001b[39;49mkwargs)\n\u001b[0;32m    307\u001b[0m     \u001b[39mif\u001b[39;00m column_name:\n\u001b[0;32m    308\u001b[0m         df \u001b[39m=\u001b[39m add_path_column(df, column_name, path, path_dtype)\n",
      "File \u001b[1;32mc:\\Users\\HaotianWu\\anaconda3\\lib\\site-packages\\pandas\\util\\_decorators.py:207\u001b[0m, in \u001b[0;36mdeprecate_kwarg.<locals>._deprecate_kwarg.<locals>.wrapper\u001b[1;34m(*args, **kwargs)\u001b[0m\n\u001b[0;32m    205\u001b[0m     \u001b[39melse\u001b[39;00m:\n\u001b[0;32m    206\u001b[0m         kwargs[new_arg_name] \u001b[39m=\u001b[39m new_arg_value\n\u001b[1;32m--> 207\u001b[0m \u001b[39mreturn\u001b[39;00m func(\u001b[39m*\u001b[39;49margs, \u001b[39m*\u001b[39;49m\u001b[39m*\u001b[39;49mkwargs)\n",
      "File \u001b[1;32mc:\\Users\\HaotianWu\\anaconda3\\lib\\site-packages\\pandas\\util\\_decorators.py:311\u001b[0m, in \u001b[0;36mdeprecate_nonkeyword_arguments.<locals>.decorate.<locals>.wrapper\u001b[1;34m(*args, **kwargs)\u001b[0m\n\u001b[0;32m    305\u001b[0m \u001b[39mif\u001b[39;00m \u001b[39mlen\u001b[39m(args) \u001b[39m>\u001b[39m num_allow_args:\n\u001b[0;32m    306\u001b[0m     warnings\u001b[39m.\u001b[39mwarn(\n\u001b[0;32m    307\u001b[0m         msg\u001b[39m.\u001b[39mformat(arguments\u001b[39m=\u001b[39marguments),\n\u001b[0;32m    308\u001b[0m         \u001b[39mFutureWarning\u001b[39;00m,\n\u001b[0;32m    309\u001b[0m         stacklevel\u001b[39m=\u001b[39mstacklevel,\n\u001b[0;32m    310\u001b[0m     )\n\u001b[1;32m--> 311\u001b[0m \u001b[39mreturn\u001b[39;00m func(\u001b[39m*\u001b[39;49margs, \u001b[39m*\u001b[39;49m\u001b[39m*\u001b[39;49mkwargs)\n",
      "File \u001b[1;32mc:\\Users\\HaotianWu\\anaconda3\\lib\\site-packages\\pandas\\io\\json\\_json.py:612\u001b[0m, in \u001b[0;36mread_json\u001b[1;34m(path_or_buf, orient, typ, dtype, convert_axes, convert_dates, keep_default_dates, numpy, precise_float, date_unit, encoding, encoding_errors, lines, chunksize, compression, nrows, storage_options)\u001b[0m\n\u001b[0;32m    609\u001b[0m     \u001b[39mreturn\u001b[39;00m json_reader\n\u001b[0;32m    611\u001b[0m \u001b[39mwith\u001b[39;00m json_reader:\n\u001b[1;32m--> 612\u001b[0m     \u001b[39mreturn\u001b[39;00m json_reader\u001b[39m.\u001b[39;49mread()\n",
      "File \u001b[1;32mc:\\Users\\HaotianWu\\anaconda3\\lib\\site-packages\\pandas\\io\\json\\_json.py:744\u001b[0m, in \u001b[0;36mJsonReader.read\u001b[1;34m(self)\u001b[0m\n\u001b[0;32m    742\u001b[0m         data \u001b[39m=\u001b[39m ensure_str(\u001b[39mself\u001b[39m\u001b[39m.\u001b[39mdata)\n\u001b[0;32m    743\u001b[0m         data_lines \u001b[39m=\u001b[39m data\u001b[39m.\u001b[39msplit(\u001b[39m\"\u001b[39m\u001b[39m\\n\u001b[39;00m\u001b[39m\"\u001b[39m)\n\u001b[1;32m--> 744\u001b[0m         obj \u001b[39m=\u001b[39m \u001b[39mself\u001b[39;49m\u001b[39m.\u001b[39;49m_get_object_parser(\u001b[39mself\u001b[39;49m\u001b[39m.\u001b[39;49m_combine_lines(data_lines))\n\u001b[0;32m    745\u001b[0m \u001b[39melse\u001b[39;00m:\n\u001b[0;32m    746\u001b[0m     obj \u001b[39m=\u001b[39m \u001b[39mself\u001b[39m\u001b[39m.\u001b[39m_get_object_parser(\u001b[39mself\u001b[39m\u001b[39m.\u001b[39mdata)\n",
      "File \u001b[1;32mc:\\Users\\HaotianWu\\anaconda3\\lib\\site-packages\\pandas\\io\\json\\_json.py:768\u001b[0m, in \u001b[0;36mJsonReader._get_object_parser\u001b[1;34m(self, json)\u001b[0m\n\u001b[0;32m    766\u001b[0m obj \u001b[39m=\u001b[39m \u001b[39mNone\u001b[39;00m\n\u001b[0;32m    767\u001b[0m \u001b[39mif\u001b[39;00m typ \u001b[39m==\u001b[39m \u001b[39m\"\u001b[39m\u001b[39mframe\u001b[39m\u001b[39m\"\u001b[39m:\n\u001b[1;32m--> 768\u001b[0m     obj \u001b[39m=\u001b[39m FrameParser(json, \u001b[39m*\u001b[39;49m\u001b[39m*\u001b[39;49mkwargs)\u001b[39m.\u001b[39;49mparse()\n\u001b[0;32m    770\u001b[0m \u001b[39mif\u001b[39;00m typ \u001b[39m==\u001b[39m \u001b[39m\"\u001b[39m\u001b[39mseries\u001b[39m\u001b[39m\"\u001b[39m \u001b[39mor\u001b[39;00m obj \u001b[39mis\u001b[39;00m \u001b[39mNone\u001b[39;00m:\n\u001b[0;32m    771\u001b[0m     \u001b[39mif\u001b[39;00m \u001b[39mnot\u001b[39;00m \u001b[39misinstance\u001b[39m(dtype, \u001b[39mbool\u001b[39m):\n",
      "File \u001b[1;32mc:\\Users\\HaotianWu\\anaconda3\\lib\\site-packages\\pandas\\io\\json\\_json.py:880\u001b[0m, in \u001b[0;36mParser.parse\u001b[1;34m(self)\u001b[0m\n\u001b[0;32m    878\u001b[0m     \u001b[39mself\u001b[39m\u001b[39m.\u001b[39m_parse_numpy()\n\u001b[0;32m    879\u001b[0m \u001b[39melse\u001b[39;00m:\n\u001b[1;32m--> 880\u001b[0m     \u001b[39mself\u001b[39;49m\u001b[39m.\u001b[39;49m_parse_no_numpy()\n\u001b[0;32m    882\u001b[0m \u001b[39mif\u001b[39;00m \u001b[39mself\u001b[39m\u001b[39m.\u001b[39mobj \u001b[39mis\u001b[39;00m \u001b[39mNone\u001b[39;00m:\n\u001b[0;32m    883\u001b[0m     \u001b[39mreturn\u001b[39;00m \u001b[39mNone\u001b[39;00m\n",
      "File \u001b[1;32mc:\\Users\\HaotianWu\\anaconda3\\lib\\site-packages\\pandas\\io\\json\\_json.py:1152\u001b[0m, in \u001b[0;36mFrameParser._parse_no_numpy\u001b[1;34m(self)\u001b[0m\n\u001b[0;32m   1149\u001b[0m     \u001b[39mself\u001b[39m\u001b[39m.\u001b[39mobj \u001b[39m=\u001b[39m parse_table_schema(json, precise_float\u001b[39m=\u001b[39m\u001b[39mself\u001b[39m\u001b[39m.\u001b[39mprecise_float)\n\u001b[0;32m   1150\u001b[0m \u001b[39melse\u001b[39;00m:\n\u001b[0;32m   1151\u001b[0m     \u001b[39mself\u001b[39m\u001b[39m.\u001b[39mobj \u001b[39m=\u001b[39m DataFrame(\n\u001b[1;32m-> 1152\u001b[0m         loads(json, precise_float\u001b[39m=\u001b[39;49m\u001b[39mself\u001b[39;49m\u001b[39m.\u001b[39;49mprecise_float), dtype\u001b[39m=\u001b[39m\u001b[39mNone\u001b[39;00m\n\u001b[0;32m   1153\u001b[0m     )\n",
      "\u001b[1;31mValueError\u001b[0m: Expected object or value"
     ]
    }
   ],
   "source": [
    "tt = dd.read_json('s3://ri-ds-crt-raw-data/2022/12/raw_data/PID221100Pink_Final_JSON_v3.json', lines=True, encoding = 'utf-8-sig')"
   ]
  },
  {
   "cell_type": "code",
   "execution_count": 5,
   "metadata": {},
   "outputs": [
    {
     "name": "stdout",
     "output_type": "stream",
     "text": [
      "s3.ObjectSummary(bucket_name='ri-ds-crt-raw-data', key='2022/12/raw_data/')\n",
      "s3.ObjectSummary(bucket_name='ri-ds-crt-raw-data', key='2022/12/raw_data/PID221100Pink_Final_JSON_v3.json')\n",
      "s3://ri-ds-crt-raw-data/2022/12/raw_data/PID221100Pink_Final_JSON_v3.json\n"
     ]
    },
    {
     "ename": "ValueError",
     "evalue": "Expected object or value",
     "output_type": "error",
     "traceback": [
      "\u001b[1;31m---------------------------------------------------------------------------\u001b[0m",
      "\u001b[1;31mValueError\u001b[0m                                Traceback (most recent call last)",
      "\u001b[1;32mc:\\code\\qa_data\\raw_crt\\test.ipynb Cell 10\u001b[0m in \u001b[0;36m<cell line: 1>\u001b[1;34m()\u001b[0m\n\u001b[1;32m----> <a href='vscode-notebook-cell:/c%3A/code/qa_data/raw_crt/test.ipynb#X12sZmlsZQ%3D%3D?line=0'>1</a>\u001b[0m dd1 \u001b[39m=\u001b[39m get_json_data_s3(exe_year, exe_month, bucketname)\n",
      "\u001b[1;32mc:\\code\\qa_data\\raw_crt\\test.ipynb Cell 10\u001b[0m in \u001b[0;36mget_json_data_s3\u001b[1;34m(year, month, bucketname)\u001b[0m\n\u001b[0;32m     <a href='vscode-notebook-cell:/c%3A/code/qa_data/raw_crt/test.ipynb#X12sZmlsZQ%3D%3D?line=18'>19</a>\u001b[0m             \u001b[39mprint\u001b[39m(fullfilename)\n\u001b[0;32m     <a href='vscode-notebook-cell:/c%3A/code/qa_data/raw_crt/test.ipynb#X12sZmlsZQ%3D%3D?line=19'>20</a>\u001b[0m             \u001b[39m# df_spss = pd.read_spss(fullfilename)\u001b[39;00m\n\u001b[1;32m---> <a href='vscode-notebook-cell:/c%3A/code/qa_data/raw_crt/test.ipynb#X12sZmlsZQ%3D%3D?line=20'>21</a>\u001b[0m             dftemp \u001b[39m=\u001b[39m dd\u001b[39m.\u001b[39;49mread_json(fullfilename)\n\u001b[0;32m     <a href='vscode-notebook-cell:/c%3A/code/qa_data/raw_crt/test.ipynb#X12sZmlsZQ%3D%3D?line=21'>22</a>\u001b[0m \u001b[39m#         dftemp = pd.read_json(obj.get()['Body'])\u001b[39;00m\n\u001b[0;32m     <a href='vscode-notebook-cell:/c%3A/code/qa_data/raw_crt/test.ipynb#X12sZmlsZQ%3D%3D?line=22'>23</a>\u001b[0m \u001b[39m#         dflist.append(dftemp)\u001b[39;00m\n\u001b[0;32m     <a href='vscode-notebook-cell:/c%3A/code/qa_data/raw_crt/test.ipynb#X12sZmlsZQ%3D%3D?line=23'>24</a>\u001b[0m \u001b[39m# df = pd.concat(dflist)\u001b[39;00m\n\u001b[0;32m     <a href='vscode-notebook-cell:/c%3A/code/qa_data/raw_crt/test.ipynb#X12sZmlsZQ%3D%3D?line=24'>25</a>\u001b[0m \u001b[39m# return df\u001b[39;00m\n\u001b[0;32m     <a href='vscode-notebook-cell:/c%3A/code/qa_data/raw_crt/test.ipynb#X12sZmlsZQ%3D%3D?line=25'>26</a>\u001b[0m \u001b[39mreturn\u001b[39;00m dftemp\n",
      "File \u001b[1;32mc:\\Users\\HaotianWu\\anaconda3\\lib\\site-packages\\dask\\dataframe\\io\\json.py:286\u001b[0m, in \u001b[0;36mread_json\u001b[1;34m(url_path, orient, lines, storage_options, blocksize, sample, encoding, errors, compression, meta, engine, include_path_column, path_converter, **kwargs)\u001b[0m\n\u001b[0;32m    271\u001b[0m     path_dtype \u001b[39m=\u001b[39m pd\u001b[39m.\u001b[39mCategoricalDtype(path_converter(f\u001b[39m.\u001b[39mpath) \u001b[39mfor\u001b[39;00m f \u001b[39min\u001b[39;00m files)\n\u001b[0;32m    272\u001b[0m     parts \u001b[39m=\u001b[39m [\n\u001b[0;32m    273\u001b[0m         delayed(read_json_file)(\n\u001b[0;32m    274\u001b[0m             f,\n\u001b[1;32m   (...)\u001b[0m\n\u001b[0;32m    283\u001b[0m         \u001b[39mfor\u001b[39;00m f \u001b[39min\u001b[39;00m files\n\u001b[0;32m    284\u001b[0m     ]\n\u001b[1;32m--> 286\u001b[0m \u001b[39mreturn\u001b[39;00m from_delayed(parts, meta\u001b[39m=\u001b[39;49mmeta)\n",
      "File \u001b[1;32mc:\\Users\\HaotianWu\\anaconda3\\lib\\site-packages\\dask\\dataframe\\io\\io.py:667\u001b[0m, in \u001b[0;36mfrom_delayed\u001b[1;34m(dfs, meta, divisions, prefix, verify_meta)\u001b[0m\n\u001b[0;32m    664\u001b[0m         \u001b[39mraise\u001b[39;00m \u001b[39mTypeError\u001b[39;00m(\u001b[39m\"\u001b[39m\u001b[39mExpected Delayed object, got \u001b[39m\u001b[39m%s\u001b[39;00m\u001b[39m\"\u001b[39m \u001b[39m%\u001b[39m \u001b[39mtype\u001b[39m(df)\u001b[39m.\u001b[39m\u001b[39m__name__\u001b[39m)\n\u001b[0;32m    666\u001b[0m \u001b[39mif\u001b[39;00m meta \u001b[39mis\u001b[39;00m \u001b[39mNone\u001b[39;00m:\n\u001b[1;32m--> 667\u001b[0m     meta \u001b[39m=\u001b[39m delayed(make_meta)(dfs[\u001b[39m0\u001b[39;49m])\u001b[39m.\u001b[39;49mcompute()\n\u001b[0;32m    668\u001b[0m \u001b[39melse\u001b[39;00m:\n\u001b[0;32m    669\u001b[0m     meta \u001b[39m=\u001b[39m make_meta(meta)\n",
      "File \u001b[1;32mc:\\Users\\HaotianWu\\anaconda3\\lib\\site-packages\\dask\\base.py:292\u001b[0m, in \u001b[0;36mDaskMethodsMixin.compute\u001b[1;34m(self, **kwargs)\u001b[0m\n\u001b[0;32m    268\u001b[0m \u001b[39mdef\u001b[39;00m \u001b[39mcompute\u001b[39m(\u001b[39mself\u001b[39m, \u001b[39m*\u001b[39m\u001b[39m*\u001b[39mkwargs):\n\u001b[0;32m    269\u001b[0m     \u001b[39m\"\"\"Compute this dask collection\u001b[39;00m\n\u001b[0;32m    270\u001b[0m \n\u001b[0;32m    271\u001b[0m \u001b[39m    This turns a lazy Dask collection into its in-memory equivalent.\u001b[39;00m\n\u001b[1;32m   (...)\u001b[0m\n\u001b[0;32m    290\u001b[0m \u001b[39m    dask.base.compute\u001b[39;00m\n\u001b[0;32m    291\u001b[0m \u001b[39m    \"\"\"\u001b[39;00m\n\u001b[1;32m--> 292\u001b[0m     (result,) \u001b[39m=\u001b[39m compute(\u001b[39mself\u001b[39;49m, traverse\u001b[39m=\u001b[39;49m\u001b[39mFalse\u001b[39;49;00m, \u001b[39m*\u001b[39;49m\u001b[39m*\u001b[39;49mkwargs)\n\u001b[0;32m    293\u001b[0m     \u001b[39mreturn\u001b[39;00m result\n",
      "File \u001b[1;32mc:\\Users\\HaotianWu\\anaconda3\\lib\\site-packages\\dask\\base.py:575\u001b[0m, in \u001b[0;36mcompute\u001b[1;34m(traverse, optimize_graph, scheduler, get, *args, **kwargs)\u001b[0m\n\u001b[0;32m    572\u001b[0m     keys\u001b[39m.\u001b[39mappend(x\u001b[39m.\u001b[39m__dask_keys__())\n\u001b[0;32m    573\u001b[0m     postcomputes\u001b[39m.\u001b[39mappend(x\u001b[39m.\u001b[39m__dask_postcompute__())\n\u001b[1;32m--> 575\u001b[0m results \u001b[39m=\u001b[39m schedule(dsk, keys, \u001b[39m*\u001b[39;49m\u001b[39m*\u001b[39;49mkwargs)\n\u001b[0;32m    576\u001b[0m \u001b[39mreturn\u001b[39;00m repack([f(r, \u001b[39m*\u001b[39ma) \u001b[39mfor\u001b[39;00m r, (f, a) \u001b[39min\u001b[39;00m \u001b[39mzip\u001b[39m(results, postcomputes)])\n",
      "File \u001b[1;32mc:\\Users\\HaotianWu\\anaconda3\\lib\\site-packages\\dask\\threaded.py:81\u001b[0m, in \u001b[0;36mget\u001b[1;34m(dsk, result, cache, num_workers, pool, **kwargs)\u001b[0m\n\u001b[0;32m     78\u001b[0m     \u001b[39melif\u001b[39;00m \u001b[39misinstance\u001b[39m(pool, multiprocessing\u001b[39m.\u001b[39mpool\u001b[39m.\u001b[39mPool):\n\u001b[0;32m     79\u001b[0m         pool \u001b[39m=\u001b[39m MultiprocessingPoolExecutor(pool)\n\u001b[1;32m---> 81\u001b[0m results \u001b[39m=\u001b[39m get_async(\n\u001b[0;32m     82\u001b[0m     pool\u001b[39m.\u001b[39;49msubmit,\n\u001b[0;32m     83\u001b[0m     pool\u001b[39m.\u001b[39;49m_max_workers,\n\u001b[0;32m     84\u001b[0m     dsk,\n\u001b[0;32m     85\u001b[0m     result,\n\u001b[0;32m     86\u001b[0m     cache\u001b[39m=\u001b[39;49mcache,\n\u001b[0;32m     87\u001b[0m     get_id\u001b[39m=\u001b[39;49m_thread_get_id,\n\u001b[0;32m     88\u001b[0m     pack_exception\u001b[39m=\u001b[39;49mpack_exception,\n\u001b[0;32m     89\u001b[0m     \u001b[39m*\u001b[39;49m\u001b[39m*\u001b[39;49mkwargs,\n\u001b[0;32m     90\u001b[0m )\n\u001b[0;32m     92\u001b[0m \u001b[39m# Cleanup pools associated to dead threads\u001b[39;00m\n\u001b[0;32m     93\u001b[0m \u001b[39mwith\u001b[39;00m pools_lock:\n",
      "File \u001b[1;32mc:\\Users\\HaotianWu\\anaconda3\\lib\\site-packages\\dask\\local.py:508\u001b[0m, in \u001b[0;36mget_async\u001b[1;34m(submit, num_workers, dsk, result, cache, get_id, rerun_exceptions_locally, pack_exception, raise_exception, callbacks, dumps, loads, chunksize, **kwargs)\u001b[0m\n\u001b[0;32m    506\u001b[0m         _execute_task(task, data)  \u001b[39m# Re-execute locally\u001b[39;00m\n\u001b[0;32m    507\u001b[0m     \u001b[39melse\u001b[39;00m:\n\u001b[1;32m--> 508\u001b[0m         raise_exception(exc, tb)\n\u001b[0;32m    509\u001b[0m res, worker_id \u001b[39m=\u001b[39m loads(res_info)\n\u001b[0;32m    510\u001b[0m state[\u001b[39m\"\u001b[39m\u001b[39mcache\u001b[39m\u001b[39m\"\u001b[39m][key] \u001b[39m=\u001b[39m res\n",
      "File \u001b[1;32mc:\\Users\\HaotianWu\\anaconda3\\lib\\site-packages\\dask\\local.py:316\u001b[0m, in \u001b[0;36mreraise\u001b[1;34m(exc, tb)\u001b[0m\n\u001b[0;32m    314\u001b[0m \u001b[39mif\u001b[39;00m exc\u001b[39m.\u001b[39m__traceback__ \u001b[39mis\u001b[39;00m \u001b[39mnot\u001b[39;00m tb:\n\u001b[0;32m    315\u001b[0m     \u001b[39mraise\u001b[39;00m exc\u001b[39m.\u001b[39mwith_traceback(tb)\n\u001b[1;32m--> 316\u001b[0m \u001b[39mraise\u001b[39;00m exc\n",
      "File \u001b[1;32mc:\\Users\\HaotianWu\\anaconda3\\lib\\site-packages\\dask\\local.py:221\u001b[0m, in \u001b[0;36mexecute_task\u001b[1;34m(key, task_info, dumps, loads, get_id, pack_exception)\u001b[0m\n\u001b[0;32m    219\u001b[0m \u001b[39mtry\u001b[39;00m:\n\u001b[0;32m    220\u001b[0m     task, data \u001b[39m=\u001b[39m loads(task_info)\n\u001b[1;32m--> 221\u001b[0m     result \u001b[39m=\u001b[39m _execute_task(task, data)\n\u001b[0;32m    222\u001b[0m     \u001b[39mid\u001b[39m \u001b[39m=\u001b[39m get_id()\n\u001b[0;32m    223\u001b[0m     result \u001b[39m=\u001b[39m dumps((result, \u001b[39mid\u001b[39m))\n",
      "File \u001b[1;32mc:\\Users\\HaotianWu\\anaconda3\\lib\\site-packages\\dask\\core.py:119\u001b[0m, in \u001b[0;36m_execute_task\u001b[1;34m(arg, cache, dsk)\u001b[0m\n\u001b[0;32m    115\u001b[0m     func, args \u001b[39m=\u001b[39m arg[\u001b[39m0\u001b[39m], arg[\u001b[39m1\u001b[39m:]\n\u001b[0;32m    116\u001b[0m     \u001b[39m# Note: Don't assign the subtask results to a variable. numpy detects\u001b[39;00m\n\u001b[0;32m    117\u001b[0m     \u001b[39m# temporaries by their reference count and can execute certain\u001b[39;00m\n\u001b[0;32m    118\u001b[0m     \u001b[39m# operations in-place.\u001b[39;00m\n\u001b[1;32m--> 119\u001b[0m     \u001b[39mreturn\u001b[39;00m func(\u001b[39m*\u001b[39;49m(_execute_task(a, cache) \u001b[39mfor\u001b[39;49;00m a \u001b[39min\u001b[39;49;00m args))\n\u001b[0;32m    120\u001b[0m \u001b[39melif\u001b[39;00m \u001b[39mnot\u001b[39;00m ishashable(arg):\n\u001b[0;32m    121\u001b[0m     \u001b[39mreturn\u001b[39;00m arg\n",
      "File \u001b[1;32mc:\\Users\\HaotianWu\\anaconda3\\lib\\site-packages\\dask\\dataframe\\io\\json.py:306\u001b[0m, in \u001b[0;36mread_json_file\u001b[1;34m(f, orient, lines, engine, column_name, path, path_dtype, kwargs)\u001b[0m\n\u001b[0;32m    304\u001b[0m \u001b[39mdef\u001b[39;00m \u001b[39mread_json_file\u001b[39m(f, orient, lines, engine, column_name, path, path_dtype, kwargs):\n\u001b[0;32m    305\u001b[0m     \u001b[39mwith\u001b[39;00m f \u001b[39mas\u001b[39;00m open_file:\n\u001b[1;32m--> 306\u001b[0m         df \u001b[39m=\u001b[39m engine(open_file, orient\u001b[39m=\u001b[39;49morient, lines\u001b[39m=\u001b[39;49mlines, \u001b[39m*\u001b[39;49m\u001b[39m*\u001b[39;49mkwargs)\n\u001b[0;32m    307\u001b[0m     \u001b[39mif\u001b[39;00m column_name:\n\u001b[0;32m    308\u001b[0m         df \u001b[39m=\u001b[39m add_path_column(df, column_name, path, path_dtype)\n",
      "File \u001b[1;32mc:\\Users\\HaotianWu\\anaconda3\\lib\\site-packages\\pandas\\util\\_decorators.py:207\u001b[0m, in \u001b[0;36mdeprecate_kwarg.<locals>._deprecate_kwarg.<locals>.wrapper\u001b[1;34m(*args, **kwargs)\u001b[0m\n\u001b[0;32m    205\u001b[0m     \u001b[39melse\u001b[39;00m:\n\u001b[0;32m    206\u001b[0m         kwargs[new_arg_name] \u001b[39m=\u001b[39m new_arg_value\n\u001b[1;32m--> 207\u001b[0m \u001b[39mreturn\u001b[39;00m func(\u001b[39m*\u001b[39;49margs, \u001b[39m*\u001b[39;49m\u001b[39m*\u001b[39;49mkwargs)\n",
      "File \u001b[1;32mc:\\Users\\HaotianWu\\anaconda3\\lib\\site-packages\\pandas\\util\\_decorators.py:311\u001b[0m, in \u001b[0;36mdeprecate_nonkeyword_arguments.<locals>.decorate.<locals>.wrapper\u001b[1;34m(*args, **kwargs)\u001b[0m\n\u001b[0;32m    305\u001b[0m \u001b[39mif\u001b[39;00m \u001b[39mlen\u001b[39m(args) \u001b[39m>\u001b[39m num_allow_args:\n\u001b[0;32m    306\u001b[0m     warnings\u001b[39m.\u001b[39mwarn(\n\u001b[0;32m    307\u001b[0m         msg\u001b[39m.\u001b[39mformat(arguments\u001b[39m=\u001b[39marguments),\n\u001b[0;32m    308\u001b[0m         \u001b[39mFutureWarning\u001b[39;00m,\n\u001b[0;32m    309\u001b[0m         stacklevel\u001b[39m=\u001b[39mstacklevel,\n\u001b[0;32m    310\u001b[0m     )\n\u001b[1;32m--> 311\u001b[0m \u001b[39mreturn\u001b[39;00m func(\u001b[39m*\u001b[39;49margs, \u001b[39m*\u001b[39;49m\u001b[39m*\u001b[39;49mkwargs)\n",
      "File \u001b[1;32mc:\\Users\\HaotianWu\\anaconda3\\lib\\site-packages\\pandas\\io\\json\\_json.py:612\u001b[0m, in \u001b[0;36mread_json\u001b[1;34m(path_or_buf, orient, typ, dtype, convert_axes, convert_dates, keep_default_dates, numpy, precise_float, date_unit, encoding, encoding_errors, lines, chunksize, compression, nrows, storage_options)\u001b[0m\n\u001b[0;32m    609\u001b[0m     \u001b[39mreturn\u001b[39;00m json_reader\n\u001b[0;32m    611\u001b[0m \u001b[39mwith\u001b[39;00m json_reader:\n\u001b[1;32m--> 612\u001b[0m     \u001b[39mreturn\u001b[39;00m json_reader\u001b[39m.\u001b[39;49mread()\n",
      "File \u001b[1;32mc:\\Users\\HaotianWu\\anaconda3\\lib\\site-packages\\pandas\\io\\json\\_json.py:744\u001b[0m, in \u001b[0;36mJsonReader.read\u001b[1;34m(self)\u001b[0m\n\u001b[0;32m    742\u001b[0m         data \u001b[39m=\u001b[39m ensure_str(\u001b[39mself\u001b[39m\u001b[39m.\u001b[39mdata)\n\u001b[0;32m    743\u001b[0m         data_lines \u001b[39m=\u001b[39m data\u001b[39m.\u001b[39msplit(\u001b[39m\"\u001b[39m\u001b[39m\\n\u001b[39;00m\u001b[39m\"\u001b[39m)\n\u001b[1;32m--> 744\u001b[0m         obj \u001b[39m=\u001b[39m \u001b[39mself\u001b[39;49m\u001b[39m.\u001b[39;49m_get_object_parser(\u001b[39mself\u001b[39;49m\u001b[39m.\u001b[39;49m_combine_lines(data_lines))\n\u001b[0;32m    745\u001b[0m \u001b[39melse\u001b[39;00m:\n\u001b[0;32m    746\u001b[0m     obj \u001b[39m=\u001b[39m \u001b[39mself\u001b[39m\u001b[39m.\u001b[39m_get_object_parser(\u001b[39mself\u001b[39m\u001b[39m.\u001b[39mdata)\n",
      "File \u001b[1;32mc:\\Users\\HaotianWu\\anaconda3\\lib\\site-packages\\pandas\\io\\json\\_json.py:768\u001b[0m, in \u001b[0;36mJsonReader._get_object_parser\u001b[1;34m(self, json)\u001b[0m\n\u001b[0;32m    766\u001b[0m obj \u001b[39m=\u001b[39m \u001b[39mNone\u001b[39;00m\n\u001b[0;32m    767\u001b[0m \u001b[39mif\u001b[39;00m typ \u001b[39m==\u001b[39m \u001b[39m\"\u001b[39m\u001b[39mframe\u001b[39m\u001b[39m\"\u001b[39m:\n\u001b[1;32m--> 768\u001b[0m     obj \u001b[39m=\u001b[39m FrameParser(json, \u001b[39m*\u001b[39;49m\u001b[39m*\u001b[39;49mkwargs)\u001b[39m.\u001b[39;49mparse()\n\u001b[0;32m    770\u001b[0m \u001b[39mif\u001b[39;00m typ \u001b[39m==\u001b[39m \u001b[39m\"\u001b[39m\u001b[39mseries\u001b[39m\u001b[39m\"\u001b[39m \u001b[39mor\u001b[39;00m obj \u001b[39mis\u001b[39;00m \u001b[39mNone\u001b[39;00m:\n\u001b[0;32m    771\u001b[0m     \u001b[39mif\u001b[39;00m \u001b[39mnot\u001b[39;00m \u001b[39misinstance\u001b[39m(dtype, \u001b[39mbool\u001b[39m):\n",
      "File \u001b[1;32mc:\\Users\\HaotianWu\\anaconda3\\lib\\site-packages\\pandas\\io\\json\\_json.py:880\u001b[0m, in \u001b[0;36mParser.parse\u001b[1;34m(self)\u001b[0m\n\u001b[0;32m    878\u001b[0m     \u001b[39mself\u001b[39m\u001b[39m.\u001b[39m_parse_numpy()\n\u001b[0;32m    879\u001b[0m \u001b[39melse\u001b[39;00m:\n\u001b[1;32m--> 880\u001b[0m     \u001b[39mself\u001b[39;49m\u001b[39m.\u001b[39;49m_parse_no_numpy()\n\u001b[0;32m    882\u001b[0m \u001b[39mif\u001b[39;00m \u001b[39mself\u001b[39m\u001b[39m.\u001b[39mobj \u001b[39mis\u001b[39;00m \u001b[39mNone\u001b[39;00m:\n\u001b[0;32m    883\u001b[0m     \u001b[39mreturn\u001b[39;00m \u001b[39mNone\u001b[39;00m\n",
      "File \u001b[1;32mc:\\Users\\HaotianWu\\anaconda3\\lib\\site-packages\\pandas\\io\\json\\_json.py:1152\u001b[0m, in \u001b[0;36mFrameParser._parse_no_numpy\u001b[1;34m(self)\u001b[0m\n\u001b[0;32m   1149\u001b[0m     \u001b[39mself\u001b[39m\u001b[39m.\u001b[39mobj \u001b[39m=\u001b[39m parse_table_schema(json, precise_float\u001b[39m=\u001b[39m\u001b[39mself\u001b[39m\u001b[39m.\u001b[39mprecise_float)\n\u001b[0;32m   1150\u001b[0m \u001b[39melse\u001b[39;00m:\n\u001b[0;32m   1151\u001b[0m     \u001b[39mself\u001b[39m\u001b[39m.\u001b[39mobj \u001b[39m=\u001b[39m DataFrame(\n\u001b[1;32m-> 1152\u001b[0m         loads(json, precise_float\u001b[39m=\u001b[39;49m\u001b[39mself\u001b[39;49m\u001b[39m.\u001b[39;49mprecise_float), dtype\u001b[39m=\u001b[39m\u001b[39mNone\u001b[39;00m\n\u001b[0;32m   1153\u001b[0m     )\n",
      "\u001b[1;31mValueError\u001b[0m: Expected object or value"
     ]
    }
   ],
   "source": [
    "dd1 = get_json_data_s3(exe_year, exe_month, bucketname)"
   ]
  },
  {
   "cell_type": "code",
   "execution_count": 14,
   "metadata": {},
   "outputs": [
    {
     "data": {
      "text/html": [
       "<div>\n",
       "<style scoped>\n",
       "    .dataframe tbody tr th:only-of-type {\n",
       "        vertical-align: middle;\n",
       "    }\n",
       "\n",
       "    .dataframe tbody tr th {\n",
       "        vertical-align: top;\n",
       "    }\n",
       "\n",
       "    .dataframe thead th {\n",
       "        text-align: right;\n",
       "    }\n",
       "</style>\n",
       "<table border=\"1\" class=\"dataframe\">\n",
       "  <thead>\n",
       "    <tr style=\"text-align: right;\">\n",
       "      <th></th>\n",
       "      <th>Language</th>\n",
       "      <th>LATAM_SOURCE</th>\n",
       "      <th>uuid</th>\n",
       "      <th>respStatus</th>\n",
       "      <th>CID</th>\n",
       "      <th>LOCALE</th>\n",
       "      <th>COUNTRY</th>\n",
       "      <th>dTrack</th>\n",
       "      <th>TERMINATION_CODE</th>\n",
       "      <th>Day</th>\n",
       "      <th>...</th>\n",
       "      <th>Q_N_11432_002_3</th>\n",
       "      <th>Q_N_11432_002_2</th>\n",
       "      <th>Q_N_11432_002_6</th>\n",
       "      <th>Q_N_11432_002_4</th>\n",
       "      <th>Q_N_11432_002_99</th>\n",
       "      <th>Q_N_11432_002_1</th>\n",
       "      <th>Q_N_11432_003A_1</th>\n",
       "      <th>Q_N_11432_003_1</th>\n",
       "      <th>Q_N_1109_003A_8_other</th>\n",
       "      <th>Q_N_5021_004_98_other</th>\n",
       "    </tr>\n",
       "  </thead>\n",
       "  <tbody>\n",
       "    <tr>\n",
       "      <th>0</th>\n",
       "      <td>18000.0</td>\n",
       "      <td>2.0</td>\n",
       "      <td>rcnmvfbmymdp8bsn</td>\n",
       "      <td>4</td>\n",
       "      <td>2.0</td>\n",
       "      <td>1</td>\n",
       "      <td>262.0</td>\n",
       "      <td>0.0</td>\n",
       "      <td>30.0</td>\n",
       "      <td>3.0</td>\n",
       "      <td>...</td>\n",
       "      <td>NaN</td>\n",
       "      <td>NaN</td>\n",
       "      <td>NaN</td>\n",
       "      <td>NaN</td>\n",
       "      <td>NaN</td>\n",
       "      <td>NaN</td>\n",
       "      <td>NaN</td>\n",
       "      <td>NaN</td>\n",
       "      <td>NaN</td>\n",
       "      <td>NaN</td>\n",
       "    </tr>\n",
       "    <tr>\n",
       "      <th>1</th>\n",
       "      <td>1000.0</td>\n",
       "      <td>2.0</td>\n",
       "      <td>9a0eb89eshn9jb2u</td>\n",
       "      <td>1</td>\n",
       "      <td>3.0</td>\n",
       "      <td>1</td>\n",
       "      <td>262.0</td>\n",
       "      <td>0.0</td>\n",
       "      <td>2.0</td>\n",
       "      <td>3.0</td>\n",
       "      <td>...</td>\n",
       "      <td>NaN</td>\n",
       "      <td>NaN</td>\n",
       "      <td>NaN</td>\n",
       "      <td>NaN</td>\n",
       "      <td>NaN</td>\n",
       "      <td>NaN</td>\n",
       "      <td>NaN</td>\n",
       "      <td>NaN</td>\n",
       "      <td>NaN</td>\n",
       "      <td>NaN</td>\n",
       "    </tr>\n",
       "    <tr>\n",
       "      <th>2</th>\n",
       "      <td>6000.0</td>\n",
       "      <td>2.0</td>\n",
       "      <td>bcfv2xxbnbqc0k17</td>\n",
       "      <td>4</td>\n",
       "      <td>16.0</td>\n",
       "      <td>8</td>\n",
       "      <td>282.0</td>\n",
       "      <td>0.0</td>\n",
       "      <td>30.0</td>\n",
       "      <td>3.0</td>\n",
       "      <td>...</td>\n",
       "      <td>NaN</td>\n",
       "      <td>NaN</td>\n",
       "      <td>NaN</td>\n",
       "      <td>NaN</td>\n",
       "      <td>NaN</td>\n",
       "      <td>NaN</td>\n",
       "      <td>NaN</td>\n",
       "      <td>NaN</td>\n",
       "      <td>NaN</td>\n",
       "      <td>NaN</td>\n",
       "    </tr>\n",
       "    <tr>\n",
       "      <th>3</th>\n",
       "      <td>6000.0</td>\n",
       "      <td>2.0</td>\n",
       "      <td>99v8mavsw44z4gyg</td>\n",
       "      <td>1</td>\n",
       "      <td>17.0</td>\n",
       "      <td>8</td>\n",
       "      <td>106.0</td>\n",
       "      <td>0.0</td>\n",
       "      <td>2.0</td>\n",
       "      <td>3.0</td>\n",
       "      <td>...</td>\n",
       "      <td>NaN</td>\n",
       "      <td>NaN</td>\n",
       "      <td>NaN</td>\n",
       "      <td>NaN</td>\n",
       "      <td>NaN</td>\n",
       "      <td>NaN</td>\n",
       "      <td>NaN</td>\n",
       "      <td>NaN</td>\n",
       "      <td>NaN</td>\n",
       "      <td>NaN</td>\n",
       "    </tr>\n",
       "    <tr>\n",
       "      <th>4</th>\n",
       "      <td>6000.0</td>\n",
       "      <td>2.0</td>\n",
       "      <td>wavrdhvxxc6ktk6k</td>\n",
       "      <td>4</td>\n",
       "      <td>19.0</td>\n",
       "      <td>8</td>\n",
       "      <td>1060.0</td>\n",
       "      <td>0.0</td>\n",
       "      <td>30.0</td>\n",
       "      <td>3.0</td>\n",
       "      <td>...</td>\n",
       "      <td>NaN</td>\n",
       "      <td>NaN</td>\n",
       "      <td>NaN</td>\n",
       "      <td>NaN</td>\n",
       "      <td>NaN</td>\n",
       "      <td>NaN</td>\n",
       "      <td>NaN</td>\n",
       "      <td>NaN</td>\n",
       "      <td>NaN</td>\n",
       "      <td>NaN</td>\n",
       "    </tr>\n",
       "  </tbody>\n",
       "</table>\n",
       "<p>5 rows × 9532 columns</p>\n",
       "</div>"
      ],
      "text/plain": [
       "   Language  LATAM_SOURCE              uuid  respStatus   CID  LOCALE  \\\n",
       "0   18000.0           2.0  rcnmvfbmymdp8bsn           4   2.0       1   \n",
       "1    1000.0           2.0  9a0eb89eshn9jb2u           1   3.0       1   \n",
       "2    6000.0           2.0  bcfv2xxbnbqc0k17           4  16.0       8   \n",
       "3    6000.0           2.0  99v8mavsw44z4gyg           1  17.0       8   \n",
       "4    6000.0           2.0  wavrdhvxxc6ktk6k           4  19.0       8   \n",
       "\n",
       "   COUNTRY  dTrack  TERMINATION_CODE  Day  ... Q_N_11432_002_3  \\\n",
       "0    262.0     0.0              30.0  3.0  ...             NaN   \n",
       "1    262.0     0.0               2.0  3.0  ...             NaN   \n",
       "2    282.0     0.0              30.0  3.0  ...             NaN   \n",
       "3    106.0     0.0               2.0  3.0  ...             NaN   \n",
       "4   1060.0     0.0              30.0  3.0  ...             NaN   \n",
       "\n",
       "   Q_N_11432_002_2  Q_N_11432_002_6  Q_N_11432_002_4  Q_N_11432_002_99  \\\n",
       "0              NaN              NaN              NaN               NaN   \n",
       "1              NaN              NaN              NaN               NaN   \n",
       "2              NaN              NaN              NaN               NaN   \n",
       "3              NaN              NaN              NaN               NaN   \n",
       "4              NaN              NaN              NaN               NaN   \n",
       "\n",
       "  Q_N_11432_002_1  Q_N_11432_003A_1  Q_N_11432_003_1  Q_N_1109_003A_8_other  \\\n",
       "0             NaN               NaN              NaN                    NaN   \n",
       "1             NaN               NaN              NaN                    NaN   \n",
       "2             NaN               NaN              NaN                    NaN   \n",
       "3             NaN               NaN              NaN                    NaN   \n",
       "4             NaN               NaN              NaN                    NaN   \n",
       "\n",
       "  Q_N_5021_004_98_other  \n",
       "0                   NaN  \n",
       "1                   NaN  \n",
       "2                   NaN  \n",
       "3                   NaN  \n",
       "4                   NaN  \n",
       "\n",
       "[5 rows x 9532 columns]"
      ]
     },
     "execution_count": 14,
     "metadata": {},
     "output_type": "execute_result"
    }
   ],
   "source": [
    "df.head()"
   ]
  },
  {
   "cell_type": "code",
   "execution_count": 20,
   "metadata": {},
   "outputs": [],
   "source": [
    "import pyreadstat\n",
    "\n",
    "df_spss = pd.read_spss(r\"C:\\Users\\HaotianWu\\Downloads\\CRT_Nov'22_Final_Raw_JSON and APAC_Raw_SPSS_Data_Files\\CRT_AUNZ.sav\")"
   ]
  },
  {
   "cell_type": "code",
   "execution_count": 19,
   "metadata": {},
   "outputs": [
    {
     "name": "stdout",
     "output_type": "stream",
     "text": [
      "s3://ri-ds-crt-raw-data/2022/11/raw_data/CRT_AUNZ.sav\n"
     ]
    },
    {
     "ename": "TypeError",
     "evalue": "expected str, bytes or os.PathLike object, not StreamingBody",
     "output_type": "error",
     "traceback": [
      "\u001b[1;31m---------------------------------------------------------------------------\u001b[0m",
      "\u001b[1;31mTypeError\u001b[0m                                 Traceback (most recent call last)",
      "\u001b[1;32mc:\\code\\qa_data\\raw_crt\\test.ipynb Cell 12\u001b[0m in \u001b[0;36m<cell line: 2>\u001b[1;34m()\u001b[0m\n\u001b[0;32m      <a href='vscode-notebook-cell:/c%3A/code/qa_data/raw_crt/test.ipynb#X16sZmlsZQ%3D%3D?line=3'>4</a>\u001b[0m fullfilename \u001b[39m=\u001b[39m \u001b[39m\"\u001b[39m\u001b[39ms3://\u001b[39m\u001b[39m\"\u001b[39m \u001b[39m+\u001b[39m bucketname \u001b[39m+\u001b[39m\u001b[39m'\u001b[39m\u001b[39m/\u001b[39m\u001b[39m'\u001b[39m\u001b[39m+\u001b[39m obj\u001b[39m.\u001b[39mkey\n\u001b[0;32m      <a href='vscode-notebook-cell:/c%3A/code/qa_data/raw_crt/test.ipynb#X16sZmlsZQ%3D%3D?line=4'>5</a>\u001b[0m \u001b[39mprint\u001b[39m(fullfilename)\n\u001b[1;32m----> <a href='vscode-notebook-cell:/c%3A/code/qa_data/raw_crt/test.ipynb#X16sZmlsZQ%3D%3D?line=5'>6</a>\u001b[0m sav_data \u001b[39m=\u001b[39m readsav(obj\u001b[39m.\u001b[39;49mget()[\u001b[39m'\u001b[39;49m\u001b[39mBody\u001b[39;49m\u001b[39m'\u001b[39;49m])\n",
      "File \u001b[1;32mc:\\Users\\HaotianWu\\anaconda3\\lib\\site-packages\\scipy\\io\\_idl.py:738\u001b[0m, in \u001b[0;36mreadsav\u001b[1;34m(file_name, idict, python_dict, uncompressed_file_name, verbose)\u001b[0m\n\u001b[0;32m    735\u001b[0m     variables \u001b[39m=\u001b[39m AttrDict()\n\u001b[0;32m    737\u001b[0m \u001b[39m# Open the IDL file\u001b[39;00m\n\u001b[1;32m--> 738\u001b[0m f \u001b[39m=\u001b[39m \u001b[39mopen\u001b[39;49m(file_name, \u001b[39m'\u001b[39;49m\u001b[39mrb\u001b[39;49m\u001b[39m'\u001b[39;49m)\n\u001b[0;32m    740\u001b[0m \u001b[39m# Read the signature, which should be 'SR'\u001b[39;00m\n\u001b[0;32m    741\u001b[0m signature \u001b[39m=\u001b[39m _read_bytes(f, \u001b[39m2\u001b[39m)\n",
      "\u001b[1;31mTypeError\u001b[0m: expected str, bytes or os.PathLike object, not StreamingBody"
     ]
    }
   ],
   "source": [
    "from scipy.io import readsav\n",
    "for obj in prefix_objs:\n",
    "        if obj.key.split('.')[-1] == 'sav':\n",
    "            fullfilename = \"s3://\" + bucketname +'/'+ obj.key\n",
    "            print(fullfilename)\n",
    "            sav_data = readsav(obj.get()['Body'])"
   ]
  },
  {
   "cell_type": "code",
   "execution_count": 29,
   "metadata": {},
   "outputs": [
    {
     "name": "stdout",
     "output_type": "stream",
     "text": [
      "s3.Object(bucket_name='ri-ds-crt-raw-data', key=\"2022/11/raw_data/CRT_Nov'22_Final_Raw_JSON and APAC_Raw_SPSS_Data_Files.zip\")\n",
      "<ZipInfo filename='CRT_Nov2022_JSON_Map_OECE.txt' compress_type=deflate external_attr=0x20 file_size=30754524 compress_size=2247315>\n",
      "<ZipInfo filename='ORD-758262-H5Q3 - CRT AUNZ November Wave 11_Recoded Raw Final Data_112522.sav' compress_type=deflate external_attr=0x20 file_size=781866530 compress_size=24182830>\n",
      "<ZipInfo filename='PID221100PINK_FL_JSON.json' compress_type=deflate external_attr=0x20 file_size=498705538 compress_size=65504127>\n",
      "<ZipInfo filename='PID221101GREEN_FL_JSON.json' compress_type=deflate external_attr=0x20 file_size=381732183 compress_size=50192909>\n",
      "<ZipInfo filename='PID221102US_FL_JSON.json' compress_type=deflate external_attr=0x20 file_size=402211667 compress_size=50885241>\n"
     ]
    }
   ],
   "source": [
    "from io import BytesIO\n",
    "import zipfile \n",
    "for obj in prefix_objs:\n",
    "        if obj.key.split('.')[-1] == 'zip':\n",
    "            zip_obj = s3.Object(bucket_name=bucketname, key=obj.key)\n",
    "\n",
    "            print(zip_obj)\n",
    "            buffer = BytesIO(zip_obj.get()[\"Body\"].read())\n",
    "\n",
    "            z = zipfile.ZipFile(buffer)\n",
    "            for filename in z.namelist():\n",
    "                file_info = z.getinfo(filename)\n",
    "                "
   ]
  },
  {
   "cell_type": "code",
   "execution_count": null,
   "metadata": {},
   "outputs": [],
   "source": [
    "import zipfile as Zip"
   ]
  }
 ],
 "metadata": {
  "kernelspec": {
   "display_name": "base",
   "language": "python",
   "name": "python3"
  },
  "language_info": {
   "codemirror_mode": {
    "name": "ipython",
    "version": 3
   },
   "file_extension": ".py",
   "mimetype": "text/x-python",
   "name": "python",
   "nbconvert_exporter": "python",
   "pygments_lexer": "ipython3",
   "version": "3.8.13 | packaged by conda-forge | (default, Mar 25 2022, 05:59:45) [MSC v.1929 64 bit (AMD64)]"
  },
  "orig_nbformat": 4,
  "vscode": {
   "interpreter": {
    "hash": "3e824a38ab7bbc702286c4b9aabaeb4f2a3acd337175df73c5ebbed26638b9a7"
   }
  }
 },
 "nbformat": 4,
 "nbformat_minor": 2
}
